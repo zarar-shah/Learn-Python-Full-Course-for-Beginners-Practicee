{
 "cells": [
  {
   "cell_type": "code",
   "execution_count": 2,
   "metadata": {},
   "outputs": [
    {
     "name": "stdout",
     "output_type": "stream",
     "text": [
      "1\n",
      "2\n",
      "3\n",
      "4\n",
      "5\n",
      "6\n",
      "7\n",
      "8\n",
      "9\n",
      "10\n",
      "Done with the while loop\n"
     ]
    }
   ],
   "source": [
    "i = 1\n",
    "while i<=10:\n",
    "    print(i)\n",
    "    i+=1\n",
    "    \n",
    "print(\"Done with the while loop\")"
   ]
  },
  {
   "cell_type": "code",
   "execution_count": 3,
   "metadata": {},
   "outputs": [
    {
     "name": "stdout",
     "output_type": "stream",
     "text": [
      "Welcome to the guessing game !! You have to guess the correct Superhero's Name :)) \n",
      "\n",
      "Enter guess: spiderman\n",
      "Enter guess: superman\n",
      "Enter guess: batman\n",
      "You win!\n"
     ]
    }
   ],
   "source": [
    "print(\"Welcome to the guessing game !! You have to guess the correct Superhero's Name :)) \\n\")\n",
    "secret_word=\"batman\"\n",
    "guess=\"\"\n",
    "guess_count = 0\n",
    "guess_limit = 3\n",
    "out_of_guesses = False\n",
    "\n",
    "while guess!=secret_word and not(out_of_guesses):\n",
    "    if guess_count < guess_limit:\n",
    "        \n",
    "        guess=input(\"Enter guess: \")\n",
    "        guess_count+=1\n",
    "        \n",
    "    else:\n",
    "        out_of_guesses = True\n",
    "        \n",
    "if out_of_guesses:\n",
    "    print(\"Out of guesses, You Lose!\")\n",
    "else:\n",
    "    print(\"You win!\")\n",
    "        \n"
   ]
  },
  {
   "cell_type": "code",
   "execution_count": 4,
   "metadata": {},
   "outputs": [
    {
     "name": "stdout",
     "output_type": "stream",
     "text": [
      "0\n",
      "1\n",
      "2\n",
      "3\n",
      "4\n",
      "5\n",
      "6\n",
      "7\n",
      "8\n",
      "9\n",
      "10\n",
      "11\n",
      "12\n",
      "13\n",
      "14\n",
      "15\n",
      "16\n",
      "17\n",
      "18\n",
      "19\n"
     ]
    }
   ],
   "source": [
    "for index in range(20):\n",
    "    print(index)"
   ]
  },
  {
   "cell_type": "code",
   "execution_count": 5,
   "metadata": {},
   "outputs": [
    {
     "name": "stdout",
     "output_type": "stream",
     "text": [
      "4\n",
      "5\n",
      "6\n",
      "7\n",
      "8\n",
      "9\n",
      "10\n",
      "11\n"
     ]
    }
   ],
   "source": [
    "for index in range(4,12):\n",
    "    print(index)"
   ]
  },
  {
   "cell_type": "code",
   "execution_count": 6,
   "metadata": {},
   "outputs": [
    {
     "name": "stdout",
     "output_type": "stream",
     "text": [
      "jake\n",
      "ryan\n",
      "chriss\n",
      "diana\n",
      "alexandra\n"
     ]
    }
   ],
   "source": [
    "friends=['jake','ryan','chriss','diana','alexandra']\n",
    "\n",
    "for index in range(len(friends)):\n",
    "    print(friends[index])"
   ]
  },
  {
   "cell_type": "code",
   "execution_count": 7,
   "metadata": {},
   "outputs": [
    {
     "name": "stdout",
     "output_type": "stream",
     "text": [
      "jake\n",
      "ryan\n",
      "chriss\n",
      "diana\n",
      "alexandra\n"
     ]
    }
   ],
   "source": [
    "friends=['jake','ryan','chriss','diana','alexandra']\n",
    "\n",
    "for index in friends:\n",
    "    print(index)"
   ]
  },
  {
   "cell_type": "code",
   "execution_count": 9,
   "metadata": {},
   "outputs": [
    {
     "name": "stdout",
     "output_type": "stream",
     "text": [
      "16\n"
     ]
    }
   ],
   "source": [
    "def raise_to_power(base_num, pow_num):\n",
    "    result=1\n",
    "    for i in range(pow_num):\n",
    "        result=result*base_num\n",
    "    return result\n",
    "\n",
    "print(raise_to_power(2,4))"
   ]
  },
  {
   "cell_type": "code",
   "execution_count": 17,
   "metadata": {},
   "outputs": [
    {
     "name": "stdout",
     "output_type": "stream",
     "text": [
      "4\n",
      "\n",
      "\n",
      "[2, 3, 4]\n",
      "[4, 5, 2]\n",
      "[7, 8, 9]\n",
      "[0]\n",
      "\n",
      "\n",
      "2\n",
      "3\n",
      "4\n",
      "4\n",
      "5\n",
      "2\n",
      "7\n",
      "8\n",
      "9\n",
      "0\n"
     ]
    }
   ],
   "source": [
    "num_grid = [\n",
    "    [2, 3, 4],\n",
    "    [4, 5, 2],\n",
    "    [7, 8, 9],\n",
    "    [0]\n",
    "]\n",
    "\n",
    "print(num_grid[0][2])\n",
    "print(\"\\n\")\n",
    "\n",
    "for row in num_grid:\n",
    "    print(row)\n",
    "print(\"\\n\")\n",
    "    \n",
    "for row in num_grid:\n",
    "    for col in row:\n",
    "        print(col)\n",
    "    "
   ]
  },
  {
   "cell_type": "code",
   "execution_count": null,
   "metadata": {},
   "outputs": [],
   "source": []
  }
 ],
 "metadata": {
  "kernelspec": {
   "display_name": "Python 3",
   "language": "python",
   "name": "python3"
  },
  "language_info": {
   "codemirror_mode": {
    "name": "ipython",
    "version": 3
   },
   "file_extension": ".py",
   "mimetype": "text/x-python",
   "name": "python",
   "nbconvert_exporter": "python",
   "pygments_lexer": "ipython3",
   "version": "3.7.0"
  }
 },
 "nbformat": 4,
 "nbformat_minor": 2
}
