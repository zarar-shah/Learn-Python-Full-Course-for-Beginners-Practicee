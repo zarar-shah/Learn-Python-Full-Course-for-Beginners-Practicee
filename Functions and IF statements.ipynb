{
 "cells": [
  {
   "cell_type": "code",
   "execution_count": 1,
   "metadata": {},
   "outputs": [
    {
     "data": {
      "text/plain": [
       "1728"
      ]
     },
     "execution_count": 1,
     "metadata": {},
     "output_type": "execute_result"
    }
   ],
   "source": [
    "def Cube(number):\n",
    "    result=number*number*number\n",
    "    return result\n",
    "\n",
    "Cube(12)\n",
    "\n",
    "    "
   ]
  },
  {
   "cell_type": "code",
   "execution_count": 2,
   "metadata": {},
   "outputs": [
    {
     "data": {
      "text/plain": [
       "4"
      ]
     },
     "execution_count": 2,
     "metadata": {},
     "output_type": "execute_result"
    }
   ],
   "source": [
    "def square(num):\n",
    "    result=num*num\n",
    "    return result\n",
    "\n",
    "square(2)"
   ]
  },
  {
   "cell_type": "code",
   "execution_count": 4,
   "metadata": {},
   "outputs": [
    {
     "name": "stdout",
     "output_type": "stream",
     "text": [
      "You are tall male\n"
     ]
    }
   ],
   "source": [
    "is_male = True\n",
    "is_tall = True\n",
    "\n",
    "if is_male and is_tall:\n",
    "    print(\"You are tall male\")\n",
    "    \n",
    "elif is_male and not(is_tall):\n",
    "    print(\"You are male but not tall\")\n",
    "\n",
    "else:\n",
    "    print(\"You are either not male or not tall or both\")"
   ]
  },
  {
   "cell_type": "code",
   "execution_count": 5,
   "metadata": {},
   "outputs": [
    {
     "name": "stdout",
     "output_type": "stream",
     "text": [
      "You are male but not tall\n"
     ]
    }
   ],
   "source": [
    "is_male = True\n",
    "is_tall = False\n",
    "\n",
    "if is_male and is_tall:\n",
    "    print(\"You are tall male\")\n",
    "    \n",
    "elif is_male and not(is_tall):\n",
    "    print(\"You are male but not tall\")\n",
    "\n",
    "else:\n",
    "    print(\"You are either not male or not tall or both\")"
   ]
  },
  {
   "cell_type": "code",
   "execution_count": 8,
   "metadata": {},
   "outputs": [
    {
     "name": "stdout",
     "output_type": "stream",
     "text": [
      "You are not a male but you are tall\n"
     ]
    }
   ],
   "source": [
    "is_male = False\n",
    "is_tall = True\n",
    "\n",
    "if is_male and is_tall:\n",
    "    print(\"You are tall male\")\n",
    "    \n",
    "elif is_male and not(is_tall):\n",
    "    print(\"You are male but not tall\")\n",
    "    \n",
    "elif not(is_male) and is_tall:\n",
    "    print(\"You are not a male but you are tall\")\n",
    "\n",
    "else:\n",
    "    print(\"You are either not male or not tall or both\")"
   ]
  },
  {
   "cell_type": "code",
   "execution_count": 9,
   "metadata": {},
   "outputs": [
    {
     "data": {
      "text/plain": [
       "88"
      ]
     },
     "execution_count": 9,
     "metadata": {},
     "output_type": "execute_result"
    }
   ],
   "source": [
    "def max_num(num1, num2, num3):\n",
    "    if num1 >= num2 and num1 >= num3:\n",
    "        return num1\n",
    "    elif num2 >= num1 and num2 >= num3:\n",
    "        return num2\n",
    "    else: \n",
    "        return num3\n",
    "    \n",
    "max_num(23, 34, 88)"
   ]
  },
  {
   "cell_type": "code",
   "execution_count": 10,
   "metadata": {},
   "outputs": [
    {
     "data": {
      "text/plain": [
       "324"
      ]
     },
     "execution_count": 10,
     "metadata": {},
     "output_type": "execute_result"
    }
   ],
   "source": [
    "def max_num(num1, num2, num3):\n",
    "    if num1 >= num2 and num1 >= num3:\n",
    "        return num1\n",
    "    elif num2 >= num1 and num2 >= num3:\n",
    "        return num2\n",
    "    else: \n",
    "        return num3\n",
    "    \n",
    "max_num(233, 324, 88)"
   ]
  },
  {
   "cell_type": "code",
   "execution_count": 11,
   "metadata": {},
   "outputs": [
    {
     "data": {
      "text/plain": [
       "828"
      ]
     },
     "execution_count": 11,
     "metadata": {},
     "output_type": "execute_result"
    }
   ],
   "source": [
    "def max_num(num1, num2, num3):\n",
    "    if num1 >= num2 and num1 >= num3:\n",
    "        return num1\n",
    "    elif num2 >= num1 and num2 >= num3:\n",
    "        return num2\n",
    "    else: \n",
    "        return num3\n",
    "    \n",
    "max_num(223, 304, 828)"
   ]
  },
  {
   "cell_type": "code",
   "execution_count": 13,
   "metadata": {},
   "outputs": [
    {
     "name": "stdout",
     "output_type": "stream",
     "text": [
      "Enter first number: 12\n",
      "Enter operator: -\n",
      "Enter second number: 3\n",
      "9.0\n"
     ]
    }
   ],
   "source": [
    "num1 = float(input(\"Enter first number: \"))\n",
    "op = input(\"Enter operator: \")\n",
    "num2 = float(input(\"Enter second number: \"))\n",
    "\n",
    "if op==\"+\":\n",
    "    print(num1 + num2)\n",
    "    \n",
    "elif op==\"-\":\n",
    "    print(num1 - num2)\n",
    "\n",
    "elif op == \"/\":\n",
    "    print(num1/num2)\n",
    "\n",
    "elif op == \"*\":\n",
    "    print(num1*num2)\n",
    "    \n",
    "else:\n",
    "    print(\"Invalid operator\")"
   ]
  },
  {
   "cell_type": "code",
   "execution_count": 14,
   "metadata": {},
   "outputs": [
    {
     "name": "stdout",
     "output_type": "stream",
     "text": [
      "Enter first number: 14\n",
      "Enter operator: +\n",
      "Enter second number: 83\n",
      "97.0\n"
     ]
    }
   ],
   "source": [
    "num1 = float(input(\"Enter first number: \"))\n",
    "op = input(\"Enter operator: \")\n",
    "num2 = float(input(\"Enter second number: \"))\n",
    "\n",
    "if op==\"+\":\n",
    "    print(num1 + num2)\n",
    "    \n",
    "elif op==\"-\":\n",
    "    print(num1 - num2)\n",
    "\n",
    "elif op == \"/\":\n",
    "    print(num1/num2)\n",
    "\n",
    "elif op == \"*\":\n",
    "    print(num1*num2)\n",
    "    \n",
    "else:\n",
    "    print(\"Invalid operator\")"
   ]
  },
  {
   "cell_type": "code",
   "execution_count": 15,
   "metadata": {},
   "outputs": [
    {
     "name": "stdout",
     "output_type": "stream",
     "text": [
      "Enter first number: 15\n",
      "Enter operator: *\n",
      "Enter second number: 4\n",
      "60.0\n"
     ]
    }
   ],
   "source": [
    "num1 = float(input(\"Enter first number: \"))\n",
    "op = input(\"Enter operator: \")\n",
    "num2 = float(input(\"Enter second number: \"))\n",
    "\n",
    "if op==\"+\":\n",
    "    print(num1 + num2)\n",
    "    \n",
    "elif op==\"-\":\n",
    "    print(num1 - num2)\n",
    "\n",
    "elif op == \"/\":\n",
    "    print(num1/num2)\n",
    "\n",
    "elif op == \"*\":\n",
    "    print(num1*num2)\n",
    "    \n",
    "else:\n",
    "    print(\"Invalid operator\")"
   ]
  },
  {
   "cell_type": "code",
   "execution_count": 16,
   "metadata": {},
   "outputs": [
    {
     "name": "stdout",
     "output_type": "stream",
     "text": [
      "Enter first number: 69\n",
      "Enter operator: /\n",
      "Enter second number: 3\n",
      "23.0\n"
     ]
    }
   ],
   "source": [
    "num1 = float(input(\"Enter first number: \"))\n",
    "op = input(\"Enter operator: \")\n",
    "num2 = float(input(\"Enter second number: \"))\n",
    "\n",
    "if op==\"+\":\n",
    "    print(num1 + num2)\n",
    "    \n",
    "elif op==\"-\":\n",
    "    print(num1 - num2)\n",
    "\n",
    "elif op == \"/\":\n",
    "    print(num1/num2)\n",
    "\n",
    "elif op == \"*\":\n",
    "    print(num1*num2)\n",
    "    \n",
    "else:\n",
    "    print(\"Invalid operator\")\n",
    "    "
   ]
  },
  {
   "cell_type": "code",
   "execution_count": 17,
   "metadata": {},
   "outputs": [
    {
     "name": "stdout",
     "output_type": "stream",
     "text": [
      "Enter first number: 4\n",
      "Enter operator: ()\n",
      "Enter second number: 8\n",
      "Invalid operator\n"
     ]
    }
   ],
   "source": [
    "num1 = float(input(\"Enter first number: \"))\n",
    "op = input(\"Enter operator: \")\n",
    "num2 = float(input(\"Enter second number: \"))\n",
    "\n",
    "if op==\"+\":\n",
    "    print(num1 + num2)\n",
    "    \n",
    "elif op==\"-\":\n",
    "    print(num1 - num2)\n",
    "\n",
    "elif op == \"/\":\n",
    "    print(num1/num2)\n",
    "\n",
    "elif op == \"*\":\n",
    "    print(num1*num2)\n",
    "    \n",
    "else:\n",
    "    print(\"Invalid operator\")\n",
    "    "
   ]
  },
  {
   "cell_type": "code",
   "execution_count": null,
   "metadata": {},
   "outputs": [],
   "source": []
  }
 ],
 "metadata": {
  "kernelspec": {
   "display_name": "Python 3",
   "language": "python",
   "name": "python3"
  },
  "language_info": {
   "codemirror_mode": {
    "name": "ipython",
    "version": 3
   },
   "file_extension": ".py",
   "mimetype": "text/x-python",
   "name": "python",
   "nbconvert_exporter": "python",
   "pygments_lexer": "ipython3",
   "version": "3.7.0"
  }
 },
 "nbformat": 4,
 "nbformat_minor": 2
}
